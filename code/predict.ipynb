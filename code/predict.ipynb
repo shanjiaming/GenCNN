{
 "cells": [
  {
   "cell_type": "markdown",
   "id": "53a7ddc5",
   "metadata": {},
   "source": [
    "This file uses predictor.ag to predict the result of the test data by autogluon."
   ]
  },
  {
   "cell_type": "code",
   "execution_count": 4,
   "id": "80219072-2213-4b87-a0f6-340bad1432a0",
   "metadata": {},
   "outputs": [],
   "source": [
    "import numpy as np\n",
    "import matplotlib.pyplot as plt\n",
    "\n",
    "cycle_dataset = np.load('cycle_dataset.npz')\n",
    "train_images = cycle_dataset['train_images']\n",
    "train_labels = cycle_dataset['train_labels']\n",
    "test_images = cycle_dataset['test_images']\n",
    "test_labels = cycle_dataset['test_labels']"
   ]
  },
  {
   "cell_type": "code",
   "execution_count": 5,
   "id": "4c22204f-ebb6-46e2-8dc1-d3b839100272",
   "metadata": {},
   "outputs": [],
   "source": [
    "import os\n",
    "os.makedirs('train', exist_ok=True)\n",
    "os.makedirs('test', exist_ok=True)"
   ]
  },
  {
   "cell_type": "code",
   "execution_count": 6,
   "id": "6dcf558e-65d8-4007-8c24-4a8733ea7149",
   "metadata": {},
   "outputs": [],
   "source": [
    "import autogluon.core as ag\n",
    "from autogluon.vision import ImagePredictor, ImageDataset"
   ]
  },
  {
   "cell_type": "code",
   "execution_count": 7,
   "id": "0c58baa2-2ea5-4d45-af89-7212e1ffbdf8",
   "metadata": {},
   "outputs": [],
   "source": [
    "for i in range(60000):\n",
    "    plt.imsave(f'train/{i}.png', train_images[i])\n",
    "for i in range(10000):\n",
    "    plt.imsave(f'test/{i}.png', test_images[i])"
   ]
  },
  {
   "cell_type": "code",
   "execution_count": 8,
   "id": "c95b9aca-59f7-4545-ba53-a9d4bde43df8",
   "metadata": {},
   "outputs": [],
   "source": [
    "import pandas as pd\n",
    "df = pd.DataFrame({'image': ['train/' + str(i) + '.png' for i in range(len(train_labels))], 'label': train_labels})"
   ]
  },
  {
   "cell_type": "code",
   "execution_count": 9,
   "id": "8ac2004d-20a8-44d2-89e4-857fa43440ff",
   "metadata": {},
   "outputs": [],
   "source": [
    "predictor = ImagePredictor.load('predictor.ag')"
   ]
  },
  {
   "cell_type": "code",
   "execution_count": 10,
   "id": "48ff1eef-6486-42ce-8a80-45b3121b1b7e",
   "metadata": {},
   "outputs": [],
   "source": [
    "test_dataset = pd.DataFrame({'image': ['test/' + str(i) + '.png' for i in range(len(test_labels))], 'label': test_labels})"
   ]
  },
  {
   "cell_type": "code",
   "execution_count": 11,
   "id": "c1c0275d-a401-4a71-99fd-6e2b5bb3a67c",
   "metadata": {},
   "outputs": [
    {
     "data": {
      "image/png": "[encoded data removed]",
      "text/plain": [
       "<Figure size 432x288 with 1 Axes>"
      ]
     },
     "metadata": {
      "needs_background": "light"
     },
     "output_type": "display_data"
    },
    {
     "name": "stderr",
     "output_type": "stream",
     "text": [
      "/root/miniconda3/lib/python3.8/site-packages/torch/nn/functional.py:718: UserWarning: Named tensors and all their associated APIs are an experimental feature and subject to change. Please do not use them for anything important until they are released as stable. (Triggered internally at  /pytorch/c10/core/TensorImpl.h:1156.)\n",
      "  return torch.max_pool2d(input, kernel_size, stride, padding, dilation, ceil_mode)\n"
     ]
    },
    {
     "data": {
      "text/html": [
       "<div>\n",
       "<style scoped>\n",
       "    .dataframe tbody tr th:only-of-type {\n",
       "        vertical-align: middle;\n",
       "    }\n",
       "\n",
       "    .dataframe tbody tr th {\n",
       "        vertical-align: top;\n",
       "    }\n",
       "\n",
       "    .dataframe thead th {\n",
       "        text-align: right;\n",
       "    }\n",
       "</style>\n",
       "<table border=\"1\" class=\"dataframe\">\n",
       "  <thead>\n",
       "    <tr style=\"text-align: right;\">\n",
       "      <th></th>\n",
       "      <th>0</th>\n",
       "      <th>1</th>\n",
       "    </tr>\n",
       "  </thead>\n",
       "  <tbody>\n",
       "    <tr>\n",
       "      <th>0</th>\n",
       "      <td>0.162645</td>\n",
       "      <td>0.837355</td>\n",
       "    </tr>\n",
       "  </tbody>\n",
       "</table>\n",
       "</div>"
      ],
      "text/plain": [
       "          0         1\n",
       "0  0.162645  0.837355"
      ]
     },
     "execution_count": 11,
     "metadata": {},
     "output_type": "execute_result"
    }
   ],
   "source": [
    "plt.imshow(test_images[2757], cmap=plt.cm.binary)\n",
    "plt.xlabel(test_labels[2757])\n",
    "plt.show()\n",
    "predictor.predict_proba(test_dataset.image[2757])"
   ]
  },
  {
   "cell_type": "code",
   "execution_count": 12,
   "id": "897d6212-652c-4f73-a8be-3e130207f994",
   "metadata": {},
   "outputs": [
    {
     "data": {
      "image/png": "[encoded data removed]",
      "text/plain": [
       "<Figure size 432x288 with 1 Axes>"
      ]
     },
     "metadata": {
      "needs_background": "light"
     },
     "output_type": "display_data"
    },
    {
     "data": {
      "text/html": [
       "<div>\n",
       "<style scoped>\n",
       "    .dataframe tbody tr th:only-of-type {\n",
       "        vertical-align: middle;\n",
       "    }\n",
       "\n",
       "    .dataframe tbody tr th {\n",
       "        vertical-align: top;\n",
       "    }\n",
       "\n",
       "    .dataframe thead th {\n",
       "        text-align: right;\n",
       "    }\n",
       "</style>\n",
       "<table border=\"1\" class=\"dataframe\">\n",
       "  <thead>\n",
       "    <tr style=\"text-align: right;\">\n",
       "      <th></th>\n",
       "      <th>0</th>\n",
       "      <th>1</th>\n",
       "    </tr>\n",
       "  </thead>\n",
       "  <tbody>\n",
       "    <tr>\n",
       "      <th>0</th>\n",
       "      <td>0.214216</td>\n",
       "      <td>0.785784</td>\n",
       "    </tr>\n",
       "  </tbody>\n",
       "</table>\n",
       "</div>"
      ],
      "text/plain": [
       "          0         1\n",
       "0  0.214216  0.785784"
      ]
     },
     "execution_count": 12,
     "metadata": {},
     "output_type": "execute_result"
    }
   ],
   "source": [
    "plt.imshow(test_images[8557], cmap=plt.cm.binary)\n",
    "plt.xlabel(test_labels[8557])\n",
    "plt.show()\n",
    "predictor.predict_proba(test_dataset.image[8557])"
   ]
  }
 ],
 "metadata": {
  "kernelspec": {
   "display_name": "Python 3 (ipykernel)",
   "language": "python",
   "name": "python3"
  },
  "language_info": {
   "codemirror_mode": {
    "name": "ipython",
    "version": 3
   },
   "file_extension": ".py",
   "mimetype": "text/x-python",
   "name": "python",
   "nbconvert_exporter": "python",
   "pygments_lexer": "ipython3",
   "version": "3.8.10"
  }
 },
 "nbformat": 4,
 "nbformat_minor": 5
}
